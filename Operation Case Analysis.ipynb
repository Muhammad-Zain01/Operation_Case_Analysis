{
 "cells": [
  {
   "cell_type": "markdown",
   "metadata": {},
   "source": [
    "## Operations Analyst Case\n",
    "### Section 2 - Credit Risk\n",
    "In the Risk Dataset, you have a list of application stage attributes and the final credit\n",
    "performance result of past applicants. The “bad flag” represents the list of customers who\n",
    "defaulted on our loan. Using this data, please answer the following questions:\n",
    "\n",
    "(1) Of the different model scores (FICO, Score1, Score2) which one does a better job of\n",
    "separating good accounts and bad accounts?\n",
    "\n",
    "(2) Are CreditCardBalance and InquiriesInLast6Months predictive of risk in addition to the\n",
    "best score you identified from the last question?\n",
    "\n"
   ]
  },
  {
   "cell_type": "code",
   "execution_count": 1,
   "metadata": {},
   "outputs": [],
   "source": [
    "import pandas as pd\n",
    "import numpy as np\n",
    "import seaborn as sns\n",
    "import matplotlib.pyplot as plt\n",
    "from sklearn.linear_model import LinearRegression\n",
    "from sklearn.model_selection import train_test_split\n",
    "%matplotlib inline"
   ]
  },
  {
   "cell_type": "code",
   "execution_count": 2,
   "metadata": {},
   "outputs": [],
   "source": [
    "df = pd.read_csv('data.csv')\n",
    "df.drop('Unnamed: 0',axis=1,inplace=True)\n",
    "df2 = pd.read_excel('data2.xlsx',parse_dates=['Days past Due tier'])"
   ]
  },
  {
   "cell_type": "markdown",
   "metadata": {},
   "source": [
    "1. Of the different model scores (FICO, Score1, Score2) which one does a better job of separating good accounts and bad accounts?"
   ]
  },
  {
   "cell_type": "code",
   "execution_count": 3,
   "metadata": {},
   "outputs": [
    {
     "data": {
      "text/html": [
       "<div>\n",
       "<style scoped>\n",
       "    .dataframe tbody tr th:only-of-type {\n",
       "        vertical-align: middle;\n",
       "    }\n",
       "\n",
       "    .dataframe tbody tr th {\n",
       "        vertical-align: top;\n",
       "    }\n",
       "\n",
       "    .dataframe thead th {\n",
       "        text-align: right;\n",
       "    }\n",
       "</style>\n",
       "<table border=\"1\" class=\"dataframe\">\n",
       "  <thead>\n",
       "    <tr style=\"text-align: right;\">\n",
       "      <th></th>\n",
       "      <th>ID</th>\n",
       "      <th>FicoScore</th>\n",
       "      <th>CustomScore1</th>\n",
       "      <th>CustomScore2</th>\n",
       "      <th>CreditCardBalance</th>\n",
       "      <th>InquriesInLast6Months</th>\n",
       "      <th>IncomeAnnual</th>\n",
       "      <th>BadFlag</th>\n",
       "    </tr>\n",
       "  </thead>\n",
       "  <tbody>\n",
       "    <tr>\n",
       "      <th>0</th>\n",
       "      <td>0123ca88-b4ae-4dfa-a647-3d59955af8b2</td>\n",
       "      <td>646</td>\n",
       "      <td>0.318988</td>\n",
       "      <td>0.290841</td>\n",
       "      <td>14701</td>\n",
       "      <td>1</td>\n",
       "      <td>100000</td>\n",
       "      <td>0</td>\n",
       "    </tr>\n",
       "    <tr>\n",
       "      <th>1</th>\n",
       "      <td>8a5cd764-f2a8-4f2d-b936-e22f46c74cba</td>\n",
       "      <td>646</td>\n",
       "      <td>0.229145</td>\n",
       "      <td>0.230242</td>\n",
       "      <td>16300</td>\n",
       "      <td>1</td>\n",
       "      <td>115000</td>\n",
       "      <td>0</td>\n",
       "    </tr>\n",
       "    <tr>\n",
       "      <th>2</th>\n",
       "      <td>a4706386-9fe4-49e0-a92b-7901d752670c</td>\n",
       "      <td>741</td>\n",
       "      <td>0.059483</td>\n",
       "      <td>0.037298</td>\n",
       "      <td>13827</td>\n",
       "      <td>0</td>\n",
       "      <td>83000</td>\n",
       "      <td>0</td>\n",
       "    </tr>\n",
       "    <tr>\n",
       "      <th>3</th>\n",
       "      <td>31ead444-e33e-437a-b481-6c5fafbdb755</td>\n",
       "      <td>772</td>\n",
       "      <td>0.068970</td>\n",
       "      <td>0.063600</td>\n",
       "      <td>15612</td>\n",
       "      <td>2</td>\n",
       "      <td>108000</td>\n",
       "      <td>0</td>\n",
       "    </tr>\n",
       "    <tr>\n",
       "      <th>4</th>\n",
       "      <td>afe8dc16-8865-4156-9d4c-f2825e2645c5</td>\n",
       "      <td>724</td>\n",
       "      <td>0.077304</td>\n",
       "      <td>0.085119</td>\n",
       "      <td>37588</td>\n",
       "      <td>1</td>\n",
       "      <td>82000</td>\n",
       "      <td>0</td>\n",
       "    </tr>\n",
       "  </tbody>\n",
       "</table>\n",
       "</div>"
      ],
      "text/plain": [
       "                                     ID  FicoScore  CustomScore1  \\\n",
       "0  0123ca88-b4ae-4dfa-a647-3d59955af8b2        646      0.318988   \n",
       "1  8a5cd764-f2a8-4f2d-b936-e22f46c74cba        646      0.229145   \n",
       "2  a4706386-9fe4-49e0-a92b-7901d752670c        741      0.059483   \n",
       "3  31ead444-e33e-437a-b481-6c5fafbdb755        772      0.068970   \n",
       "4  afe8dc16-8865-4156-9d4c-f2825e2645c5        724      0.077304   \n",
       "\n",
       "   CustomScore2  CreditCardBalance  InquriesInLast6Months  IncomeAnnual  \\\n",
       "0      0.290841              14701                      1        100000   \n",
       "1      0.230242              16300                      1        115000   \n",
       "2      0.037298              13827                      0         83000   \n",
       "3      0.063600              15612                      2        108000   \n",
       "4      0.085119              37588                      1         82000   \n",
       "\n",
       "   BadFlag  \n",
       "0        0  \n",
       "1        0  \n",
       "2        0  \n",
       "3        0  \n",
       "4        0  "
      ]
     },
     "execution_count": 3,
     "metadata": {},
     "output_type": "execute_result"
    }
   ],
   "source": [
    "df.head()"
   ]
  },
  {
   "cell_type": "code",
   "execution_count": 4,
   "metadata": {},
   "outputs": [
    {
     "name": "stderr",
     "output_type": "stream",
     "text": [
      "c:\\users\\memon\\appdata\\local\\programs\\python\\python39\\lib\\site-packages\\seaborn\\_decorators.py:36: FutureWarning: Pass the following variables as keyword args: x, y. From version 0.12, the only valid positional argument will be `data`, and passing other arguments without an explicit keyword will result in an error or misinterpretation.\n",
      "  warnings.warn(\n",
      "c:\\users\\memon\\appdata\\local\\programs\\python\\python39\\lib\\site-packages\\seaborn\\_decorators.py:36: FutureWarning: Pass the following variables as keyword args: x, y. From version 0.12, the only valid positional argument will be `data`, and passing other arguments without an explicit keyword will result in an error or misinterpretation.\n",
      "  warnings.warn(\n",
      "c:\\users\\memon\\appdata\\local\\programs\\python\\python39\\lib\\site-packages\\seaborn\\_decorators.py:36: FutureWarning: Pass the following variables as keyword args: x, y. From version 0.12, the only valid positional argument will be `data`, and passing other arguments without an explicit keyword will result in an error or misinterpretation.\n",
      "  warnings.warn(\n"
     ]
    },
    {
     "data": {
      "text/plain": [
       "<seaborn.axisgrid.FacetGrid at 0x2bdbe943760>"
      ]
     },
     "execution_count": 4,
     "metadata": {},
     "output_type": "execute_result"
    },
    {
     "data": {
      "image/png": "[encoded data removed]",
      "text/plain": [
       "<Figure size 360x360 with 1 Axes>"
      ]
     },
     "metadata": {
      "needs_background": "light"
     },
     "output_type": "display_data"
    },
    {
     "data": {
      "image/png": "[encoded data removed]",
      "text/plain": [
       "<Figure size 360x360 with 1 Axes>"
      ]
     },
     "metadata": {
      "needs_background": "light"
     },
     "output_type": "display_data"
    },
    {
     "data": {
      "image/png": "[encoded data removed]",
      "text/plain": [
       "<Figure size 360x360 with 1 Axes>"
      ]
     },
     "metadata": {
      "needs_background": "light"
     },
     "output_type": "display_data"
    }
   ],
   "source": [
    "sns.catplot('BadFlag','FicoScore',data=df,kind='box')\n",
    "sns.catplot('BadFlag','CustomScore1',data=df,kind='box')\n",
    "sns.catplot('BadFlag','CustomScore2',data=df,kind='box')"
   ]
  },
  {
   "cell_type": "code",
   "execution_count": 5,
   "metadata": {},
   "outputs": [
    {
     "data": {
      "text/plain": [
       "<AxesSubplot:>"
      ]
     },
     "execution_count": 5,
     "metadata": {},
     "output_type": "execute_result"
    },
    {
     "data": {
      "image/png": "[encoded data removed]",
      "text/plain": [
       "<Figure size 720x576 with 2 Axes>"
      ]
     },
     "metadata": {
      "needs_background": "light"
     },
     "output_type": "display_data"
    }
   ],
   "source": [
    "corr = df.corr()\n",
    "plt.figure(figsize=(10,8))\n",
    "sns.heatmap(corr,annot=True)"
   ]
  },
  {
   "cell_type": "markdown",
   "metadata": {},
   "source": [
    "We can Clearly Understand from these charts above, states that FICO is Negatively Correlated to BadFlag(Means Account is good or bad), While CustomScore1 and CustomScore2 is Postively Correlated.\n",
    "\n",
    "In Terms of Correlation CustomScore2 is Most Efficient for Analyzing Good or Bad Accounts.\n",
    "__________________"
   ]
  },
  {
   "cell_type": "markdown",
   "metadata": {},
   "source": [
    "2. Are CreditCardBalance and InquiriesInLast6Months predictive of risk in addition to the best score you identified from the last question?"
   ]
  },
  {
   "cell_type": "code",
   "execution_count": 6,
   "metadata": {},
   "outputs": [
    {
     "name": "stderr",
     "output_type": "stream",
     "text": [
      "c:\\users\\memon\\appdata\\local\\programs\\python\\python39\\lib\\site-packages\\seaborn\\_decorators.py:36: FutureWarning: Pass the following variables as keyword args: x, y. From version 0.12, the only valid positional argument will be `data`, and passing other arguments without an explicit keyword will result in an error or misinterpretation.\n",
      "  warnings.warn(\n"
     ]
    },
    {
     "data": {
      "text/plain": [
       "<seaborn.axisgrid.FacetGrid at 0x2bdc39917c0>"
      ]
     },
     "execution_count": 6,
     "metadata": {},
     "output_type": "execute_result"
    },
    {
     "data": {
      "image/png": "[encoded data removed]",
      "text/plain": [
       "<Figure size 408.5x360 with 1 Axes>"
      ]
     },
     "metadata": {
      "needs_background": "light"
     },
     "output_type": "display_data"
    }
   ],
   "source": [
    "sns.relplot('CreditCardBalance','InquriesInLast6Months',data=df,hue='BadFlag')"
   ]
  },
  {
   "cell_type": "code",
   "execution_count": 7,
   "metadata": {},
   "outputs": [
    {
     "data": {
      "text/plain": [
       "<AxesSubplot:>"
      ]
     },
     "execution_count": 7,
     "metadata": {},
     "output_type": "execute_result"
    },
    {
     "data": {
      "image/png": "[encoded data removed]",
      "text/plain": [
       "<Figure size 720x576 with 2 Axes>"
      ]
     },
     "metadata": {
      "needs_background": "light"
     },
     "output_type": "display_data"
    }
   ],
   "source": [
    "plt.figure(figsize=(10,8))\n",
    "sns.heatmap(corr,annot=True)"
   ]
  },
  {
   "cell_type": "markdown",
   "metadata": {},
   "source": [
    "InquiriesInLast6Months is more Efficient to Predict Risk as compare to CreditCardBalance\n"
   ]
  },
  {
   "cell_type": "markdown",
   "metadata": {},
   "source": [
    "### Section 3 - Operations"
   ]
  },
  {
   "cell_type": "markdown",
   "metadata": {},
   "source": [
    "#### Tasks and questions:\n",
    "(1) Please estimate the number of Charge-offs (120+ days late) that might have occurred\n",
    "by month in 2020 and your Charge Off Projections for 2021 Q1.\n",
    "\n",
    "(2) Please estimate the roll rates by each bucket; i.e. % of 30-59 roll over to 60-89, from\n",
    "60-89 to 90-119.(3) Pl provide your best forecast from the available data for all the delinquencies (by\n",
    "bucket) for Q1 of 2021.\n",
    "\n",
    "(3) Pl provide your best forecast from the available data for all the delinquencies (by\n",
    "bucket) for Q1 of 2021.\n",
    "\n",
    "(4) Now provide your best estimate of the number of agents needed in the Collections\n",
    "Department to meet the demand for Q1, 2021.\n",
    "\n",
    "(5) If the department is staffed at only 66% of your required capacity you have\n",
    "projected, please provide a calling strategy that will make best use of the limited\n",
    "resources. Provide appropriate reasoning to justify your recommendation.\n",
    "\n",
    "(6) Assuming an average account has 15,000 in balance when they charge-off and an\n",
    "average agent’s annual income is 70,000 – lay out the economics for the level of\n",
    "performance required by collections to justify the costs.\n",
    "\n",
    "(7) What other strategies would you recommend to drive improvement in collections\n",
    "effectiveness. Also, what other data elements about the customer do you think can help\n",
    "you better optimize your collection strategy.\n"
   ]
  },
  {
   "cell_type": "markdown",
   "metadata": {},
   "source": [
    "###### For the purposes of this case, we will make a few following assumptions.\n",
    "- The probability of actually getting in touch with a delinquent customer who is less than 30 days past due is 10%, after that the probability drops to 3%\n",
    "- It takes about 2 minutes to prepare to call each contact; but it takes 10 minutes to talk if they get hold of a customer.\n",
    "- About 90% of customers who are delinquent for greater than 90 days Charge Off.\n",
    "- An agent works 8 hours a day with 1.5 hours of break/meeting time. 10% of an agent’s time could be assumed to be in vacation."
   ]
  },
  {
   "cell_type": "markdown",
   "metadata": {},
   "source": [
    "-----------------------------------------"
   ]
  },
  {
   "cell_type": "markdown",
   "metadata": {},
   "source": [
    "1. Please estimate the number of Charge-offs (120+ days late) that might have occurred by month in 2020 and your Charge Off Projections for 2021 Q1."
   ]
  },
  {
   "cell_type": "code",
   "execution_count": 8,
   "metadata": {},
   "outputs": [
    {
     "data": {
      "text/html": [
       "<div>\n",
       "<style scoped>\n",
       "    .dataframe tbody tr th:only-of-type {\n",
       "        vertical-align: middle;\n",
       "    }\n",
       "\n",
       "    .dataframe tbody tr th {\n",
       "        vertical-align: top;\n",
       "    }\n",
       "\n",
       "    .dataframe thead th {\n",
       "        text-align: right;\n",
       "    }\n",
       "</style>\n",
       "<table border=\"1\" class=\"dataframe\">\n",
       "  <thead>\n",
       "    <tr style=\"text-align: right;\">\n",
       "      <th></th>\n",
       "      <th>Days past Due tier</th>\n",
       "      <th>1 to 14</th>\n",
       "      <th>15 to 29</th>\n",
       "      <th>30 to 59</th>\n",
       "      <th>60 to 89</th>\n",
       "      <th>90 to 119</th>\n",
       "      <th>TOTAL Delinquecies</th>\n",
       "      <th>Charge-Off (120+)</th>\n",
       "    </tr>\n",
       "  </thead>\n",
       "  <tbody>\n",
       "    <tr>\n",
       "      <th>0</th>\n",
       "      <td>2020-01-13</td>\n",
       "      <td>825.0</td>\n",
       "      <td>405.0</td>\n",
       "      <td>525.0</td>\n",
       "      <td>375.0</td>\n",
       "      <td>292.5</td>\n",
       "      <td>2422.5</td>\n",
       "      <td>NaN</td>\n",
       "    </tr>\n",
       "    <tr>\n",
       "      <th>1</th>\n",
       "      <td>2020-01-14</td>\n",
       "      <td>1012.5</td>\n",
       "      <td>405.0</td>\n",
       "      <td>472.5</td>\n",
       "      <td>405.0</td>\n",
       "      <td>277.5</td>\n",
       "      <td>2572.5</td>\n",
       "      <td>NaN</td>\n",
       "    </tr>\n",
       "    <tr>\n",
       "      <th>2</th>\n",
       "      <td>2020-01-15</td>\n",
       "      <td>1035.0</td>\n",
       "      <td>360.0</td>\n",
       "      <td>435.0</td>\n",
       "      <td>412.5</td>\n",
       "      <td>285.0</td>\n",
       "      <td>2527.5</td>\n",
       "      <td>NaN</td>\n",
       "    </tr>\n",
       "    <tr>\n",
       "      <th>3</th>\n",
       "      <td>2020-01-16</td>\n",
       "      <td>1042.5</td>\n",
       "      <td>307.5</td>\n",
       "      <td>450.0</td>\n",
       "      <td>405.0</td>\n",
       "      <td>285.0</td>\n",
       "      <td>2490.0</td>\n",
       "      <td>NaN</td>\n",
       "    </tr>\n",
       "    <tr>\n",
       "      <th>4</th>\n",
       "      <td>2020-01-17</td>\n",
       "      <td>1117.5</td>\n",
       "      <td>315.0</td>\n",
       "      <td>435.0</td>\n",
       "      <td>420.0</td>\n",
       "      <td>285.0</td>\n",
       "      <td>2572.5</td>\n",
       "      <td>NaN</td>\n",
       "    </tr>\n",
       "  </tbody>\n",
       "</table>\n",
       "</div>"
      ],
      "text/plain": [
       "  Days past Due tier  1 to 14  15 to 29  30 to 59  60 to 89  90 to 119  \\\n",
       "0         2020-01-13    825.0     405.0     525.0     375.0      292.5   \n",
       "1         2020-01-14   1012.5     405.0     472.5     405.0      277.5   \n",
       "2         2020-01-15   1035.0     360.0     435.0     412.5      285.0   \n",
       "3         2020-01-16   1042.5     307.5     450.0     405.0      285.0   \n",
       "4         2020-01-17   1117.5     315.0     435.0     420.0      285.0   \n",
       "\n",
       "   TOTAL Delinquecies  Charge-Off (120+)  \n",
       "0              2422.5                NaN  \n",
       "1              2572.5                NaN  \n",
       "2              2527.5                NaN  \n",
       "3              2490.0                NaN  \n",
       "4              2572.5                NaN  "
      ]
     },
     "execution_count": 8,
     "metadata": {},
     "output_type": "execute_result"
    }
   ],
   "source": [
    "df2.drop(['Unnamed: 8','Unnamed: 9'],axis=1,inplace=True)\n",
    "df2.head()"
   ]
  },
  {
   "cell_type": "code",
   "execution_count": 9,
   "metadata": {},
   "outputs": [],
   "source": [
    "df2['Charge-Off (120+)']= df2['90 to 119'].apply(lambda x: x*0.90)"
   ]
  },
  {
   "cell_type": "code",
   "execution_count": 10,
   "metadata": {},
   "outputs": [
    {
     "data": {
      "text/html": [
       "<div>\n",
       "<style scoped>\n",
       "    .dataframe tbody tr th:only-of-type {\n",
       "        vertical-align: middle;\n",
       "    }\n",
       "\n",
       "    .dataframe tbody tr th {\n",
       "        vertical-align: top;\n",
       "    }\n",
       "\n",
       "    .dataframe thead th {\n",
       "        text-align: right;\n",
       "    }\n",
       "</style>\n",
       "<table border=\"1\" class=\"dataframe\">\n",
       "  <thead>\n",
       "    <tr style=\"text-align: right;\">\n",
       "      <th></th>\n",
       "      <th>Days past Due tier</th>\n",
       "      <th>1 to 14</th>\n",
       "      <th>15 to 29</th>\n",
       "      <th>30 to 59</th>\n",
       "      <th>60 to 89</th>\n",
       "      <th>90 to 119</th>\n",
       "      <th>TOTAL Delinquecies</th>\n",
       "      <th>Charge-Off (120+)</th>\n",
       "    </tr>\n",
       "  </thead>\n",
       "  <tbody>\n",
       "    <tr>\n",
       "      <th>0</th>\n",
       "      <td>2020-01-13</td>\n",
       "      <td>825.0</td>\n",
       "      <td>405.0</td>\n",
       "      <td>525.0</td>\n",
       "      <td>375.0</td>\n",
       "      <td>292.5</td>\n",
       "      <td>2422.5</td>\n",
       "      <td>263.25</td>\n",
       "    </tr>\n",
       "    <tr>\n",
       "      <th>1</th>\n",
       "      <td>2020-01-14</td>\n",
       "      <td>1012.5</td>\n",
       "      <td>405.0</td>\n",
       "      <td>472.5</td>\n",
       "      <td>405.0</td>\n",
       "      <td>277.5</td>\n",
       "      <td>2572.5</td>\n",
       "      <td>249.75</td>\n",
       "    </tr>\n",
       "    <tr>\n",
       "      <th>2</th>\n",
       "      <td>2020-01-15</td>\n",
       "      <td>1035.0</td>\n",
       "      <td>360.0</td>\n",
       "      <td>435.0</td>\n",
       "      <td>412.5</td>\n",
       "      <td>285.0</td>\n",
       "      <td>2527.5</td>\n",
       "      <td>256.50</td>\n",
       "    </tr>\n",
       "    <tr>\n",
       "      <th>3</th>\n",
       "      <td>2020-01-16</td>\n",
       "      <td>1042.5</td>\n",
       "      <td>307.5</td>\n",
       "      <td>450.0</td>\n",
       "      <td>405.0</td>\n",
       "      <td>285.0</td>\n",
       "      <td>2490.0</td>\n",
       "      <td>256.50</td>\n",
       "    </tr>\n",
       "    <tr>\n",
       "      <th>4</th>\n",
       "      <td>2020-01-17</td>\n",
       "      <td>1117.5</td>\n",
       "      <td>315.0</td>\n",
       "      <td>435.0</td>\n",
       "      <td>420.0</td>\n",
       "      <td>285.0</td>\n",
       "      <td>2572.5</td>\n",
       "      <td>256.50</td>\n",
       "    </tr>\n",
       "  </tbody>\n",
       "</table>\n",
       "</div>"
      ],
      "text/plain": [
       "  Days past Due tier  1 to 14  15 to 29  30 to 59  60 to 89  90 to 119  \\\n",
       "0         2020-01-13    825.0     405.0     525.0     375.0      292.5   \n",
       "1         2020-01-14   1012.5     405.0     472.5     405.0      277.5   \n",
       "2         2020-01-15   1035.0     360.0     435.0     412.5      285.0   \n",
       "3         2020-01-16   1042.5     307.5     450.0     405.0      285.0   \n",
       "4         2020-01-17   1117.5     315.0     435.0     420.0      285.0   \n",
       "\n",
       "   TOTAL Delinquecies  Charge-Off (120+)  \n",
       "0              2422.5             263.25  \n",
       "1              2572.5             249.75  \n",
       "2              2527.5             256.50  \n",
       "3              2490.0             256.50  \n",
       "4              2572.5             256.50  "
      ]
     },
     "execution_count": 10,
     "metadata": {},
     "output_type": "execute_result"
    }
   ],
   "source": [
    "df2.head()"
   ]
  },
  {
   "cell_type": "markdown",
   "metadata": {},
   "source": [
    "Monthly Report of Charge off's"
   ]
  },
  {
   "cell_type": "code",
   "execution_count": 11,
   "metadata": {},
   "outputs": [],
   "source": [
    "df3 = df2.set_index('Days past Due tier')\n",
    "monthsum = []\n",
    "for i in [1,2,3,4,5,6,7,8,9,10,11,12]:\n",
    "    monthsum.append(df3.loc[f'2020-{i}']['Charge-Off (120+)'].sum())\n",
    "month_name = ['January','Febuary','March','April','May','June','July','August','September','October','November','December']"
   ]
  },
  {
   "cell_type": "code",
   "execution_count": 12,
   "metadata": {},
   "outputs": [
    {
     "data": {
      "text/html": [
       "<div>\n",
       "<style scoped>\n",
       "    .dataframe tbody tr th:only-of-type {\n",
       "        vertical-align: middle;\n",
       "    }\n",
       "\n",
       "    .dataframe tbody tr th {\n",
       "        vertical-align: top;\n",
       "    }\n",
       "\n",
       "    .dataframe thead th {\n",
       "        text-align: right;\n",
       "    }\n",
       "</style>\n",
       "<table border=\"1\" class=\"dataframe\">\n",
       "  <thead>\n",
       "    <tr style=\"text-align: right;\">\n",
       "      <th></th>\n",
       "      <th>Month</th>\n",
       "      <th>Total Charge Off</th>\n",
       "    </tr>\n",
       "  </thead>\n",
       "  <tbody>\n",
       "    <tr>\n",
       "      <th>0</th>\n",
       "      <td>January</td>\n",
       "      <td>3678.75</td>\n",
       "    </tr>\n",
       "    <tr>\n",
       "      <th>1</th>\n",
       "      <td>Febuary</td>\n",
       "      <td>6554.25</td>\n",
       "    </tr>\n",
       "    <tr>\n",
       "      <th>2</th>\n",
       "      <td>March</td>\n",
       "      <td>6453.00</td>\n",
       "    </tr>\n",
       "    <tr>\n",
       "      <th>3</th>\n",
       "      <td>April</td>\n",
       "      <td>5406.75</td>\n",
       "    </tr>\n",
       "    <tr>\n",
       "      <th>4</th>\n",
       "      <td>May</td>\n",
       "      <td>3807.00</td>\n",
       "    </tr>\n",
       "    <tr>\n",
       "      <th>5</th>\n",
       "      <td>June</td>\n",
       "      <td>5305.50</td>\n",
       "    </tr>\n",
       "    <tr>\n",
       "      <th>6</th>\n",
       "      <td>July</td>\n",
       "      <td>8862.75</td>\n",
       "    </tr>\n",
       "    <tr>\n",
       "      <th>7</th>\n",
       "      <td>August</td>\n",
       "      <td>8451.00</td>\n",
       "    </tr>\n",
       "    <tr>\n",
       "      <th>8</th>\n",
       "      <td>September</td>\n",
       "      <td>9153.00</td>\n",
       "    </tr>\n",
       "    <tr>\n",
       "      <th>9</th>\n",
       "      <td>October</td>\n",
       "      <td>9969.75</td>\n",
       "    </tr>\n",
       "    <tr>\n",
       "      <th>10</th>\n",
       "      <td>November</td>\n",
       "      <td>10084.50</td>\n",
       "    </tr>\n",
       "    <tr>\n",
       "      <th>11</th>\n",
       "      <td>December</td>\n",
       "      <td>15714.00</td>\n",
       "    </tr>\n",
       "  </tbody>\n",
       "</table>\n",
       "</div>"
      ],
      "text/plain": [
       "        Month  Total Charge Off\n",
       "0     January           3678.75\n",
       "1     Febuary           6554.25\n",
       "2       March           6453.00\n",
       "3       April           5406.75\n",
       "4         May           3807.00\n",
       "5        June           5305.50\n",
       "6        July           8862.75\n",
       "7      August           8451.00\n",
       "8   September           9153.00\n",
       "9     October           9969.75\n",
       "10   November          10084.50\n",
       "11   December          15714.00"
      ]
     },
     "execution_count": 12,
     "metadata": {},
     "output_type": "execute_result"
    }
   ],
   "source": [
    "Mondf = pd.DataFrame(month_name,columns=['Month'])\n",
    "Mondf['Total Charge Off'] = monthsum\n",
    "Mondf"
   ]
  },
  {
   "cell_type": "code",
   "execution_count": 13,
   "metadata": {},
   "outputs": [
    {
     "data": {
      "text/plain": [
       "[<matplotlib.lines.Line2D at 0x2bdc0b56850>]"
      ]
     },
     "execution_count": 13,
     "metadata": {},
     "output_type": "execute_result"
    },
    {
     "data": {
      "image/png": "[encoded data removed]",
      "text/plain": [
       "<Figure size 936x432 with 1 Axes>"
      ]
     },
     "metadata": {
      "needs_background": "light"
     },
     "output_type": "display_data"
    }
   ],
   "source": [
    "plt.figure(figsize=(13,6))\n",
    "plt.plot(Mondf.Month,Mondf['Total Charge Off'],color='black')"
   ]
  },
  {
   "cell_type": "markdown",
   "metadata": {},
   "source": [
    "Here we can see overall growing Trend of Charge off customers.\n",
    "\n",
    "___________________________________________________________________"
   ]
  },
  {
   "cell_type": "markdown",
   "metadata": {},
   "source": [
    "2. Please estimate the roll rates by each bucket; i.e. % of 30-59 roll over to 60-89, from 60-89 to 90-119."
   ]
  },
  {
   "cell_type": "code",
   "execution_count": 14,
   "metadata": {},
   "outputs": [],
   "source": [
    "cols = ['1 to 14', '15 to 29', '30 to 59', '60 to 89','90 to 119']\n",
    "RollRates = []\n",
    "for i in range(len(cols)):\n",
    "    if i<=3:\n",
    "        RollRates.append(float(str((df2[cols[i]].sum()-df2[cols[i+1]].sum())/df2[cols[i]].sum()*100)[:5]))"
   ]
  },
  {
   "cell_type": "code",
   "execution_count": 15,
   "metadata": {},
   "outputs": [],
   "source": [
    "roll = pd.DataFrame(cols[1:],columns=['Days tier'])\n",
    "roll['Roll Rates (%)'] = RollRates"
   ]
  },
  {
   "cell_type": "code",
   "execution_count": 16,
   "metadata": {},
   "outputs": [
    {
     "data": {
      "text/html": [
       "<div>\n",
       "<style scoped>\n",
       "    .dataframe tbody tr th:only-of-type {\n",
       "        vertical-align: middle;\n",
       "    }\n",
       "\n",
       "    .dataframe tbody tr th {\n",
       "        vertical-align: top;\n",
       "    }\n",
       "\n",
       "    .dataframe thead th {\n",
       "        text-align: right;\n",
       "    }\n",
       "</style>\n",
       "<table border=\"1\" class=\"dataframe\">\n",
       "  <thead>\n",
       "    <tr style=\"text-align: right;\">\n",
       "      <th></th>\n",
       "      <th>Days tier</th>\n",
       "      <th>Roll Rates (%)</th>\n",
       "    </tr>\n",
       "  </thead>\n",
       "  <tbody>\n",
       "    <tr>\n",
       "      <th>0</th>\n",
       "      <td>15 to 29</td>\n",
       "      <td>63.71</td>\n",
       "    </tr>\n",
       "    <tr>\n",
       "      <th>1</th>\n",
       "      <td>30 to 59</td>\n",
       "      <td>3.13</td>\n",
       "    </tr>\n",
       "    <tr>\n",
       "      <th>2</th>\n",
       "      <td>60 to 89</td>\n",
       "      <td>21.20</td>\n",
       "    </tr>\n",
       "    <tr>\n",
       "      <th>3</th>\n",
       "      <td>90 to 119</td>\n",
       "      <td>18.20</td>\n",
       "    </tr>\n",
       "  </tbody>\n",
       "</table>\n",
       "</div>"
      ],
      "text/plain": [
       "   Days tier  Roll Rates (%)\n",
       "0   15 to 29           63.71\n",
       "1   30 to 59            3.13\n",
       "2   60 to 89           21.20\n",
       "3  90 to 119           18.20"
      ]
     },
     "execution_count": 16,
     "metadata": {},
     "output_type": "execute_result"
    }
   ],
   "source": [
    "roll"
   ]
  },
  {
   "cell_type": "code",
   "execution_count": 17,
   "metadata": {},
   "outputs": [
    {
     "name": "stderr",
     "output_type": "stream",
     "text": [
      "c:\\users\\memon\\appdata\\local\\programs\\python\\python39\\lib\\site-packages\\seaborn\\_decorators.py:36: FutureWarning: Pass the following variables as keyword args: x, y. From version 0.12, the only valid positional argument will be `data`, and passing other arguments without an explicit keyword will result in an error or misinterpretation.\n",
      "  warnings.warn(\n"
     ]
    },
    {
     "data": {
      "text/plain": [
       "<AxesSubplot:xlabel='Days tier', ylabel='Roll Rates (%)'>"
      ]
     },
     "execution_count": 17,
     "metadata": {},
     "output_type": "execute_result"
    },
    {
     "data": {
      "image/png": "[encoded data removed]",
      "text/plain": [
       "<Figure size 864x432 with 1 Axes>"
      ]
     },
     "metadata": {
      "needs_background": "light"
     },
     "output_type": "display_data"
    }
   ],
   "source": [
    "plt.figure(figsize=(12,6))\n",
    "sns.barplot(roll['Days tier'],roll['Roll Rates (%)'],color='black')"
   ]
  },
  {
   "cell_type": "code",
   "execution_count": 18,
   "metadata": {},
   "outputs": [],
   "source": [
    "tr = df2.copy()"
   ]
  },
  {
   "cell_type": "code",
   "execution_count": 19,
   "metadata": {},
   "outputs": [],
   "source": [
    "tr['Year'] = tr['Days past Due tier'].dt.year\n",
    "tr['Month'] = tr['Days past Due tier'].dt.month\n",
    "tr['Day'] = tr['Days past Due tier'].dt.day"
   ]
  },
  {
   "cell_type": "markdown",
   "metadata": {},
   "source": [
    "Building Linear Regression Model"
   ]
  },
  {
   "cell_type": "code",
   "execution_count": 20,
   "metadata": {},
   "outputs": [],
   "source": [
    "x = tr[['Year','Month','Day']]\n",
    "y1 = tr['1 to 14']\n",
    "y2 = tr['15 to 29']\n",
    "y3 = tr['30 to 59']\n",
    "y4 = tr['60 to 89']\n",
    "y5 = tr['90 to 119']"
   ]
  },
  {
   "cell_type": "code",
   "execution_count": 21,
   "metadata": {},
   "outputs": [],
   "source": [
    "x1_train,x1_test,y1_train,y1_test = train_test_split(x,y1,test_size=0.10,random_state=10)\n",
    "x2_train,x2_test,y2_train,y2_test = train_test_split(x,y2,test_size=0.10,random_state=10)\n",
    "x3_train,x3_test,y3_train,y3_test = train_test_split(x,y3,test_size=0.10,random_state=10)\n",
    "x4_train,x4_test,y4_train,y4_test = train_test_split(x,y4,test_size=0.10,random_state=10)\n",
    "x5_train,x5_test,y5_train,y5_test = train_test_split(x,y5,test_size=0.10,random_state=10)"
   ]
  },
  {
   "cell_type": "code",
   "execution_count": 22,
   "metadata": {},
   "outputs": [],
   "source": [
    "model1 = LinearRegression()\n",
    "model2 = LinearRegression()\n",
    "model3 = LinearRegression()\n",
    "model4 = LinearRegression()\n",
    "model5 = LinearRegression()"
   ]
  },
  {
   "cell_type": "code",
   "execution_count": 23,
   "metadata": {},
   "outputs": [
    {
     "data": {
      "text/plain": [
       "LinearRegression()"
      ]
     },
     "execution_count": 23,
     "metadata": {},
     "output_type": "execute_result"
    }
   ],
   "source": [
    "model1.fit(x1_train,y1_train)\n",
    "model2.fit(x2_train,y2_train)\n",
    "model3.fit(x3_train,y3_train)\n",
    "model4.fit(x4_train,y4_train)\n",
    "model5.fit(x5_train,y5_train)"
   ]
  },
  {
   "cell_type": "code",
   "execution_count": 24,
   "metadata": {},
   "outputs": [
    {
     "data": {
      "text/plain": [
       "'74.20%'"
      ]
     },
     "execution_count": 24,
     "metadata": {},
     "output_type": "execute_result"
    }
   ],
   "source": [
    "score1 = model1.score(x1_test,y1_test)\n",
    "score2 = model2.score(x2_test,y2_test)\n",
    "score3 = model3.score(x3_test,y3_test)\n",
    "score4 = model4.score(x4_test,y4_test)\n",
    "score5 = model5.score(x5_test,y5_test)\n",
    "AverageScore = str(((score1+score2+score3+score4+score5)/5)*100)[:5]+\"%\"\n",
    "AverageScore"
   ]
  },
  {
   "cell_type": "code",
   "execution_count": 25,
   "metadata": {},
   "outputs": [],
   "source": [
    "cs = pd.date_range(start='1/1/2021', end='31/03/2021')\n",
    "fd = []\n",
    "Forcast = pd.DataFrame(cs,columns=['Date'])\n",
    "def Chn(val):\n",
    "    x = str(val)[:10].split('-')\n",
    "    y = []\n",
    "    for i in x:\n",
    "        i = int(i)\n",
    "        y.append(i)\n",
    "    return y \n",
    "for i in cs:\n",
    "    fd.append(Chn(i))\n",
    "p1 = model1.predict(pd.DataFrame(fd))\n",
    "p2 = model2.predict(pd.DataFrame(fd))\n",
    "p3 = model3.predict(pd.DataFrame(fd))\n",
    "p4 = model4.predict(pd.DataFrame(fd))\n",
    "p5 = model5.predict(pd.DataFrame(fd))"
   ]
  },
  {
   "cell_type": "code",
   "execution_count": 26,
   "metadata": {},
   "outputs": [],
   "source": [
    "Forcast['1 to 14 (Predicted)'] = p1\n",
    "Forcast['15 to 29 (Predicted)'] = p2\n",
    "Forcast['30 to 59 (Predicted)'] = p3\n",
    "Forcast['60 to 89 (Predicted)'] = p4\n",
    "Forcast['90 to 119 (Predicted)'] = p5\n",
    "ce = Forcast.columns[1:]\n",
    "total = []\n",
    "for i in range(len(Forcast['1 to 14 (Predicted)'])):\n",
    "     total.append(Forcast[ce[0]][i]+Forcast[ce[1]][i]+Forcast[ce[2]][i]+Forcast[ce[3]][i]+Forcast[ce[4]][i])\n",
    "Forcast['Total'] = total"
   ]
  },
  {
   "cell_type": "code",
   "execution_count": 27,
   "metadata": {},
   "outputs": [
    {
     "data": {
      "text/html": [
       "<div>\n",
       "<style scoped>\n",
       "    .dataframe tbody tr th:only-of-type {\n",
       "        vertical-align: middle;\n",
       "    }\n",
       "\n",
       "    .dataframe tbody tr th {\n",
       "        vertical-align: top;\n",
       "    }\n",
       "\n",
       "    .dataframe thead th {\n",
       "        text-align: right;\n",
       "    }\n",
       "</style>\n",
       "<table border=\"1\" class=\"dataframe\">\n",
       "  <thead>\n",
       "    <tr style=\"text-align: right;\">\n",
       "      <th></th>\n",
       "      <th>Date</th>\n",
       "      <th>1 to 14 (Predicted)</th>\n",
       "      <th>15 to 29 (Predicted)</th>\n",
       "      <th>30 to 59 (Predicted)</th>\n",
       "      <th>60 to 89 (Predicted)</th>\n",
       "      <th>90 to 119 (Predicted)</th>\n",
       "      <th>Total</th>\n",
       "    </tr>\n",
       "  </thead>\n",
       "  <tbody>\n",
       "    <tr>\n",
       "      <th>0</th>\n",
       "      <td>2021-01-01</td>\n",
       "      <td>577.711057</td>\n",
       "      <td>82.710398</td>\n",
       "      <td>169.636964</td>\n",
       "      <td>219.971789</td>\n",
       "      <td>177.676782</td>\n",
       "      <td>1227.706990</td>\n",
       "    </tr>\n",
       "    <tr>\n",
       "      <th>1</th>\n",
       "      <td>2021-01-02</td>\n",
       "      <td>579.362279</td>\n",
       "      <td>90.733106</td>\n",
       "      <td>172.849219</td>\n",
       "      <td>220.627451</td>\n",
       "      <td>179.009722</td>\n",
       "      <td>1242.581777</td>\n",
       "    </tr>\n",
       "    <tr>\n",
       "      <th>2</th>\n",
       "      <td>2021-01-03</td>\n",
       "      <td>581.013500</td>\n",
       "      <td>98.755814</td>\n",
       "      <td>176.061473</td>\n",
       "      <td>221.283113</td>\n",
       "      <td>180.342663</td>\n",
       "      <td>1257.456564</td>\n",
       "    </tr>\n",
       "    <tr>\n",
       "      <th>3</th>\n",
       "      <td>2021-01-04</td>\n",
       "      <td>582.664722</td>\n",
       "      <td>106.778523</td>\n",
       "      <td>179.273728</td>\n",
       "      <td>221.938775</td>\n",
       "      <td>181.675603</td>\n",
       "      <td>1272.331351</td>\n",
       "    </tr>\n",
       "    <tr>\n",
       "      <th>4</th>\n",
       "      <td>2021-01-05</td>\n",
       "      <td>584.315944</td>\n",
       "      <td>114.801231</td>\n",
       "      <td>182.485982</td>\n",
       "      <td>222.594437</td>\n",
       "      <td>183.008543</td>\n",
       "      <td>1287.206138</td>\n",
       "    </tr>\n",
       "    <tr>\n",
       "      <th>...</th>\n",
       "      <td>...</td>\n",
       "      <td>...</td>\n",
       "      <td>...</td>\n",
       "      <td>...</td>\n",
       "      <td>...</td>\n",
       "      <td>...</td>\n",
       "      <td>...</td>\n",
       "    </tr>\n",
       "    <tr>\n",
       "      <th>85</th>\n",
       "      <td>2021-03-27</td>\n",
       "      <td>1068.709762</td>\n",
       "      <td>460.370064</td>\n",
       "      <td>409.600093</td>\n",
       "      <td>339.785998</td>\n",
       "      <td>292.124309</td>\n",
       "      <td>2570.590226</td>\n",
       "    </tr>\n",
       "    <tr>\n",
       "      <th>86</th>\n",
       "      <td>2021-03-28</td>\n",
       "      <td>1070.360984</td>\n",
       "      <td>468.392772</td>\n",
       "      <td>412.812347</td>\n",
       "      <td>340.441660</td>\n",
       "      <td>293.457249</td>\n",
       "      <td>2585.465013</td>\n",
       "    </tr>\n",
       "    <tr>\n",
       "      <th>87</th>\n",
       "      <td>2021-03-29</td>\n",
       "      <td>1072.012206</td>\n",
       "      <td>476.415480</td>\n",
       "      <td>416.024602</td>\n",
       "      <td>341.097322</td>\n",
       "      <td>294.790189</td>\n",
       "      <td>2600.339800</td>\n",
       "    </tr>\n",
       "    <tr>\n",
       "      <th>88</th>\n",
       "      <td>2021-03-30</td>\n",
       "      <td>1073.663428</td>\n",
       "      <td>484.438189</td>\n",
       "      <td>419.236856</td>\n",
       "      <td>341.752984</td>\n",
       "      <td>296.123130</td>\n",
       "      <td>2615.214587</td>\n",
       "    </tr>\n",
       "    <tr>\n",
       "      <th>89</th>\n",
       "      <td>2021-03-31</td>\n",
       "      <td>1075.314650</td>\n",
       "      <td>492.460897</td>\n",
       "      <td>422.449111</td>\n",
       "      <td>342.408646</td>\n",
       "      <td>297.456070</td>\n",
       "      <td>2630.089375</td>\n",
       "    </tr>\n",
       "  </tbody>\n",
       "</table>\n",
       "<p>90 rows × 7 columns</p>\n",
       "</div>"
      ],
      "text/plain": [
       "         Date  1 to 14 (Predicted)  15 to 29 (Predicted)  \\\n",
       "0  2021-01-01           577.711057             82.710398   \n",
       "1  2021-01-02           579.362279             90.733106   \n",
       "2  2021-01-03           581.013500             98.755814   \n",
       "3  2021-01-04           582.664722            106.778523   \n",
       "4  2021-01-05           584.315944            114.801231   \n",
       "..        ...                  ...                   ...   \n",
       "85 2021-03-27          1068.709762            460.370064   \n",
       "86 2021-03-28          1070.360984            468.392772   \n",
       "87 2021-03-29          1072.012206            476.415480   \n",
       "88 2021-03-30          1073.663428            484.438189   \n",
       "89 2021-03-31          1075.314650            492.460897   \n",
       "\n",
       "    30 to 59 (Predicted)  60 to 89 (Predicted)  90 to 119 (Predicted)  \\\n",
       "0             169.636964            219.971789             177.676782   \n",
       "1             172.849219            220.627451             179.009722   \n",
       "2             176.061473            221.283113             180.342663   \n",
       "3             179.273728            221.938775             181.675603   \n",
       "4             182.485982            222.594437             183.008543   \n",
       "..                   ...                   ...                    ...   \n",
       "85            409.600093            339.785998             292.124309   \n",
       "86            412.812347            340.441660             293.457249   \n",
       "87            416.024602            341.097322             294.790189   \n",
       "88            419.236856            341.752984             296.123130   \n",
       "89            422.449111            342.408646             297.456070   \n",
       "\n",
       "          Total  \n",
       "0   1227.706990  \n",
       "1   1242.581777  \n",
       "2   1257.456564  \n",
       "3   1272.331351  \n",
       "4   1287.206138  \n",
       "..          ...  \n",
       "85  2570.590226  \n",
       "86  2585.465013  \n",
       "87  2600.339800  \n",
       "88  2615.214587  \n",
       "89  2630.089375  \n",
       "\n",
       "[90 rows x 7 columns]"
      ]
     },
     "execution_count": 27,
     "metadata": {},
     "output_type": "execute_result"
    }
   ],
   "source": [
    "Forcast"
   ]
  },
  {
   "cell_type": "code",
   "execution_count": 28,
   "metadata": {},
   "outputs": [
    {
     "data": {
      "image/png": "[encoded data removed]",
      "text/plain": [
       "<Figure size 720x360 with 1 Axes>"
      ]
     },
     "metadata": {
      "needs_background": "light"
     },
     "output_type": "display_data"
    },
    {
     "data": {
      "image/png": "[encoded data removed]",
      "text/plain": [
       "<Figure size 720x360 with 1 Axes>"
      ]
     },
     "metadata": {
      "needs_background": "light"
     },
     "output_type": "display_data"
    },
    {
     "data": {
      "image/png": "[encoded data removed]",
      "text/plain": [
       "<Figure size 720x360 with 1 Axes>"
      ]
     },
     "metadata": {
      "needs_background": "light"
     },
     "output_type": "display_data"
    },
    {
     "data": {
      "image/png": "[encoded data removed]",
      "text/plain": [
       "<Figure size 720x360 with 1 Axes>"
      ]
     },
     "metadata": {
      "needs_background": "light"
     },
     "output_type": "display_data"
    },
    {
     "data": {
      "image/png": "[encoded data removed]",
      "text/plain": [
       "<Figure size 720x360 with 1 Axes>"
      ]
     },
     "metadata": {
      "needs_background": "light"
     },
     "output_type": "display_data"
    }
   ],
   "source": [
    "for i in Forcast.columns[1:-1]:\n",
    "    plt.figure(figsize=(10,5))\n",
    "    plt.plot(Forcast.set_index('Date')[i],color='black')\n",
    "    plt.title(i)"
   ]
  },
  {
   "cell_type": "markdown",
   "metadata": {},
   "source": [
    "4. Now provide your best estimate of the number of agents needed in the Collections Department to meet the demand for Q1, 2021."
   ]
  },
  {
   "cell_type": "markdown",
   "metadata": {},
   "source": [
    "###### Assumption\n",
    "As We Know an Agent work 8 Hours in a day with 1.5 hours break. so, he actively work about 6.5 hours"
   ]
  },
  {
   "cell_type": "code",
   "execution_count": 29,
   "metadata": {},
   "outputs": [
    {
     "data": {
      "text/plain": [
       "390.0"
      ]
     },
     "execution_count": 29,
     "metadata": {},
     "output_type": "execute_result"
    }
   ],
   "source": [
    "6.5*60 #How Much Minutes an Agent works"
   ]
  },
  {
   "cell_type": "code",
   "execution_count": 30,
   "metadata": {},
   "outputs": [
    {
     "data": {
      "text/plain": [
       "26.0"
      ]
     },
     "execution_count": 30,
     "metadata": {},
     "output_type": "execute_result"
    }
   ],
   "source": [
    "390/15 #How Much calls it makes"
   ]
  },
  {
   "cell_type": "markdown",
   "metadata": {},
   "source": [
    "Agents Required to Call every twice a day, and if I estimate how much number of Agents make calls on a single day, so it is approximately 25 to 27 calls a day"
   ]
  },
  {
   "cell_type": "code",
   "execution_count": 31,
   "metadata": {},
   "outputs": [
    {
     "name": "stdout",
     "output_type": "stream",
     "text": [
      "Here we can see Average number of delinquencies in between 1 to 14 day of Q1 of 2021 is:\n"
     ]
    },
    {
     "data": {
      "text/plain": [
       "825.7422831102375"
      ]
     },
     "execution_count": 31,
     "metadata": {},
     "output_type": "execute_result"
    }
   ],
   "source": [
    "print('Here we can see Average number of delinquencies in between 1 to 14 day of Q1 of 2021 is:')\n",
    "Forcast['1 to 14 (Predicted)'].mean()"
   ]
  },
  {
   "cell_type": "code",
   "execution_count": 32,
   "metadata": {},
   "outputs": [
    {
     "name": "stdout",
     "output_type": "stream",
     "text": [
      "These are the numbers of customers needed to Called Every day\n"
     ]
    },
    {
     "data": {
      "text/plain": [
       "578.385702240966"
      ]
     },
     "execution_count": 32,
     "metadata": {},
     "output_type": "execute_result"
    }
   ],
   "source": [
    "print('These are the numbers of customers needed to Called Every day')\n",
    "Forcast['15 to 29 (Predicted)'].mean()+Forcast['30 to 59 (Predicted)'].mean()\n"
   ]
  },
  {
   "cell_type": "code",
   "execution_count": 33,
   "metadata": {},
   "outputs": [
    {
     "name": "stdout",
     "output_type": "stream",
     "text": [
      "These are the numbers of customers needed to meet on Alternative days, or Twice a day\n"
     ]
    },
    {
     "data": {
      "text/plain": [
       "517.8286295730678"
      ]
     },
     "execution_count": 33,
     "metadata": {},
     "output_type": "execute_result"
    }
   ],
   "source": [
    "print('These are the numbers of customers needed to meet on Alternative days, or Twice a day')\n",
    "Forcast['60 to 89 (Predicted)'].mean()+Forcast['90 to 119 (Predicted)'].mean()"
   ]
  },
  {
   "cell_type": "code",
   "execution_count": 34,
   "metadata": {},
   "outputs": [
    {
     "data": {
      "text/plain": [
       "105.66153846153847"
      ]
     },
     "execution_count": 34,
     "metadata": {},
     "output_type": "execute_result"
    }
   ],
   "source": [
    "825/26  + 578/26 + 517/10\n"
   ]
  },
  {
   "cell_type": "markdown",
   "metadata": {},
   "source": [
    "Approximately we need 100 to 105 Agents needed in the collection Departement to meet the demand for Q1 of 2021"
   ]
  },
  {
   "cell_type": "markdown",
   "metadata": {},
   "source": [
    "5. If the department is staffed at only 66% of your required capacity you have projected, please provide a calling strategy that will make best use of the limited resources. Provide appropriate reasoning to justify your recommendation."
   ]
  },
  {
   "cell_type": "markdown",
   "metadata": {},
   "source": [
    "In my Suggestion from 0 to 15 days, if we use Automated System to Call the\n",
    "customer and use recorded voices, and in 15 to 30 days, Agents will call daily basis,\n",
    "and after 30 days agent need to meet with customers, As we can see in the chart\n",
    "shown below that, the customer in 0 to 14 bucket have Most Delinquencies, but in 15\n",
    "to 29 bucket, it came down, after that, all bucket have kind of constant delinquencies,\n",
    "so in 0 to 15, if we use Automated calling System, so it will help us to grab customer,\n",
    "and in 15 to 30 days, Agent Call Customer Manually, and then after 30 days have a\n",
    "meeting with a customer, it is the better strategy to grab customer, and get rid of\n",
    "charge off"
   ]
  },
  {
   "cell_type": "markdown",
   "metadata": {},
   "source": [
    "6. Assuming an average account has 15,000 in balance when they charge-off and an average agent’s annual income is 70,000 – lay out the economics for the level of performance required by collections to justify the costs."
   ]
  },
  {
   "cell_type": "markdown",
   "metadata": {},
   "source": [
    "if the annual income of Agent is 70000 means monthly income will be 5900, and the consumer who charge off, have average amount due is 15000 dollars, the performance required for a single Agent is to he should get at least (Minimum) 5 customers to pay-off their money back in a single month and 60 in a year, and it can justify the cost of the average salary of an agent. "
   ]
  },
  {
   "cell_type": "markdown",
   "metadata": {},
   "source": [
    "7. What other strategies would you recommend to drive improvement in collections effectiveness. Also, what other data elements about the customer do you think can help you better optimize your collection strategy.\n"
   ]
  },
  {
   "cell_type": "markdown",
   "metadata": {},
   "source": [
    "## Recomendation\n",
    "I have some recommendations are as follows:\n",
    "- we should develop an automated calling system call on an Hourly or Half-day  basis, so we can remind our customers more consistently\n",
    "- In the Data, people with less than an Annual Income of 70,000 are more likely  to be charge-off, so while dealing with those customers, we should have some  limit, so they do not charge off.\n",
    "- If we created some obligatory factors, for charge-off customers It will also help nus to retain customers"
   ]
  }
 ],
 "metadata": {
  "kernelspec": {
   "display_name": "Python 3",
   "language": "python",
   "name": "python3"
  },
  "language_info": {
   "codemirror_mode": {
    "name": "ipython",
    "version": 3
   },
   "file_extension": ".py",
   "mimetype": "text/x-python",
   "name": "python",
   "nbconvert_exporter": "python",
   "pygments_lexer": "ipython3",
   "version": "3.9.1"
  }
 },
 "nbformat": 4,
 "nbformat_minor": 4
}
